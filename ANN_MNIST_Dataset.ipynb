{
  "nbformat": 4,
  "nbformat_minor": 0,
  "metadata": {
    "colab": {
      "name": "ANN-MNIST_Dataset.ipynb",
      "provenance": []
    },
    "kernelspec": {
      "name": "python3",
      "display_name": "Python 3"
    }
  },
  "cells": [
    {
      "cell_type": "code",
      "metadata": {
        "id": "MkFjT8Cl7wdy",
        "colab_type": "code",
        "colab": {
          "base_uri": "https://localhost:8080/",
          "height": 34
        },
        "outputId": "5421571a-f710-446b-cc9e-91829560f1c6"
      },
      "source": [
        "import cv2\n",
        "import keras\n",
        "import numpy as np\n",
        "import pandas as pd\n",
        "from keras.layers import Dense\n",
        "import matplotlib.pyplot as plt\n",
        "from keras.models import Sequential\n",
        "from keras.utils import to_categorical\n",
        "from sklearn.model_selection import train_test_split"
      ],
      "execution_count": null,
      "outputs": [
        {
          "output_type": "stream",
          "text": [
            "Using TensorFlow backend.\n"
          ],
          "name": "stderr"
        }
      ]
    },
    {
      "cell_type": "code",
      "metadata": {
        "id": "PYzmp8IE7yME",
        "colab_type": "code",
        "colab": {
          "base_uri": "https://localhost:8080/",
          "height": 136
        },
        "outputId": "f27defd3-8542-4b46-8e98-76a8d39594ec"
      },
      "source": [
        "mnist = pd.read_csv('/content/sample_data/mnist_train_small.csv').iloc[:,:].values\n",
        "mnist"
      ],
      "execution_count": null,
      "outputs": [
        {
          "output_type": "execute_result",
          "data": {
            "text/plain": [
              "array([[5, 0, 0, ..., 0, 0, 0],\n",
              "       [7, 0, 0, ..., 0, 0, 0],\n",
              "       [9, 0, 0, ..., 0, 0, 0],\n",
              "       ...,\n",
              "       [2, 0, 0, ..., 0, 0, 0],\n",
              "       [9, 0, 0, ..., 0, 0, 0],\n",
              "       [5, 0, 0, ..., 0, 0, 0]])"
            ]
          },
          "metadata": {
            "tags": []
          },
          "execution_count": 2
        }
      ]
    },
    {
      "cell_type": "code",
      "metadata": {
        "id": "IQq8vyvv7yUm",
        "colab_type": "code",
        "colab": {
          "base_uri": "https://localhost:8080/",
          "height": 34
        },
        "outputId": "1eb62353-63aa-427e-a5f4-e13ebcee0155"
      },
      "source": [
        "y = mnist[:,0]\n",
        "x = mnist[:,1:]\n",
        "y"
      ],
      "execution_count": null,
      "outputs": [
        {
          "output_type": "execute_result",
          "data": {
            "text/plain": [
              "array([5, 7, 9, ..., 2, 9, 5])"
            ]
          },
          "metadata": {
            "tags": []
          },
          "execution_count": 3
        }
      ]
    },
    {
      "cell_type": "code",
      "metadata": {
        "id": "9GQ2JlNW7y3t",
        "colab_type": "code",
        "colab": {
          "base_uri": "https://localhost:8080/",
          "height": 136
        },
        "outputId": "da7a506a-64d8-4730-89d0-73d2c505d51d"
      },
      "source": [
        "y_ = to_categorical(y)\n",
        "print(y_)"
      ],
      "execution_count": null,
      "outputs": [
        {
          "output_type": "stream",
          "text": [
            "[[0. 0. 0. ... 0. 0. 0.]\n",
            " [0. 0. 0. ... 1. 0. 0.]\n",
            " [0. 0. 0. ... 0. 0. 1.]\n",
            " ...\n",
            " [0. 0. 1. ... 0. 0. 0.]\n",
            " [0. 0. 0. ... 0. 0. 1.]\n",
            " [0. 0. 0. ... 0. 0. 0.]]\n"
          ],
          "name": "stdout"
        }
      ]
    },
    {
      "cell_type": "code",
      "metadata": {
        "id": "nQjcEzh_7y2z",
        "colab_type": "code",
        "colab": {
          "base_uri": "https://localhost:8080/",
          "height": 34
        },
        "outputId": "43e0ab66-c402-4cb9-ff5a-77df850e9d15"
      },
      "source": [
        "y_.shape"
      ],
      "execution_count": null,
      "outputs": [
        {
          "output_type": "execute_result",
          "data": {
            "text/plain": [
              "(19999, 10)"
            ]
          },
          "metadata": {
            "tags": []
          },
          "execution_count": 5
        }
      ]
    },
    {
      "cell_type": "code",
      "metadata": {
        "id": "TxLUSqzD7y1l",
        "colab_type": "code",
        "colab": {
          "base_uri": "https://localhost:8080/",
          "height": 34
        },
        "outputId": "fd36a31c-7ce0-4dee-b04e-ea32bf429f67"
      },
      "source": [
        "temp = x[2]\n",
        "temp.shape"
      ],
      "execution_count": null,
      "outputs": [
        {
          "output_type": "execute_result",
          "data": {
            "text/plain": [
              "(784,)"
            ]
          },
          "metadata": {
            "tags": []
          },
          "execution_count": 6
        }
      ]
    },
    {
      "cell_type": "code",
      "metadata": {
        "id": "o4zQmrTu7y0Y",
        "colab_type": "code",
        "colab": {
          "base_uri": "https://localhost:8080/",
          "height": 34
        },
        "outputId": "784dad27-9b07-4550-df04-16ff7ba46efb"
      },
      "source": [
        "temp = temp.reshape(28,28)\n",
        "temp.shape"
      ],
      "execution_count": null,
      "outputs": [
        {
          "output_type": "execute_result",
          "data": {
            "text/plain": [
              "(28, 28)"
            ]
          },
          "metadata": {
            "tags": []
          },
          "execution_count": 7
        }
      ]
    },
    {
      "cell_type": "code",
      "metadata": {
        "id": "AAS5t4DJ7yyk",
        "colab_type": "code",
        "colab": {
          "base_uri": "https://localhost:8080/",
          "height": 282
        },
        "outputId": "ab0d07d0-d894-492e-f490-16020b1503ac"
      },
      "source": [
        "plt.imshow(temp)"
      ],
      "execution_count": null,
      "outputs": [
        {
          "output_type": "execute_result",
          "data": {
            "text/plain": [
              "<matplotlib.image.AxesImage at 0x7f9afb1f7f28>"
            ]
          },
          "metadata": {
            "tags": []
          },
          "execution_count": 8
        },
        {
          "output_type": "display_data",
          "data": {
            "image/png": "[encoded data removed]",
            "text/plain": [
              "<Figure size 432x288 with 1 Axes>"
            ]
          },
          "metadata": {
            "tags": [],
            "needs_background": "light"
          }
        }
      ]
    },
    {
      "cell_type": "code",
      "metadata": {
        "id": "CLLxXwNQ7yvy",
        "colab_type": "code",
        "colab": {}
      },
      "source": [
        "model = Sequential()\n",
        "model.add(Dense(64, input_dim=784, activation = 'relu'))\n",
        "model.add(Dense(60, activation = 'relu'))\n",
        "model.add(Dense(40, activation = 'relu'))\n",
        "model.add(Dense(20, activation = 'relu'))\n",
        "model.add(Dense(10,  activation = 'softmax'))\n",
        "model.compile(loss='categorical_crossentropy', optimizer='adam',metrics=['accuracy'])"
      ],
      "execution_count": null,
      "outputs": []
    },
    {
      "cell_type": "code",
      "metadata": {
        "id": "GYHb_eYH7yrk",
        "colab_type": "code",
        "colab": {
          "base_uri": "https://localhost:8080/",
          "height": 323
        },
        "outputId": "3754b848-2d52-4527-fe06-dcd25e0960f3"
      },
      "source": [
        "model.summary()"
      ],
      "execution_count": null,
      "outputs": [
        {
          "output_type": "stream",
          "text": [
            "Model: \"sequential_1\"\n",
            "_________________________________________________________________\n",
            "Layer (type)                 Output Shape              Param #   \n",
            "=================================================================\n",
            "dense_1 (Dense)              (None, 64)                50240     \n",
            "_________________________________________________________________\n",
            "dense_2 (Dense)              (None, 60)                3900      \n",
            "_________________________________________________________________\n",
            "dense_3 (Dense)              (None, 40)                2440      \n",
            "_________________________________________________________________\n",
            "dense_4 (Dense)              (None, 20)                820       \n",
            "_________________________________________________________________\n",
            "dense_5 (Dense)              (None, 10)                210       \n",
            "=================================================================\n",
            "Total params: 57,610\n",
            "Trainable params: 57,610\n",
            "Non-trainable params: 0\n",
            "_________________________________________________________________\n"
          ],
          "name": "stdout"
        }
      ]
    },
    {
      "cell_type": "code",
      "metadata": {
        "id": "pvYu7NF_7yiq",
        "colab_type": "code",
        "colab": {}
      },
      "source": [
        "X_train,X_test,y_train,y_test = train_test_split(x,y_,shuffle = True, test_size = 0.1)"
      ],
      "execution_count": null,
      "outputs": []
    },
    {
      "cell_type": "code",
      "metadata": {
        "id": "iUL_VVQL7yY1",
        "colab_type": "code",
        "colab": {
          "base_uri": "https://localhost:8080/",
          "height": 1000
        },
        "outputId": "3a39c061-9411-4c98-dc05-49d853b15dae"
      },
      "source": [
        "history = model.fit(X_train,y_train, validation_data=(X_test,y_test),epochs=30,batch_size =50)"
      ],
      "execution_count": null,
      "outputs": [
        {
          "output_type": "stream",
          "text": [
            "Train on 17999 samples, validate on 2000 samples\n",
            "Epoch 1/30\n",
            "17999/17999 [==============================] - 1s 71us/step - loss: 2.2492 - accuracy: 0.6325 - val_loss: 0.6871 - val_accuracy: 0.8040\n",
            "Epoch 2/30\n",
            "17999/17999 [==============================] - 1s 51us/step - loss: 0.5107 - accuracy: 0.8510 - val_loss: 0.4853 - val_accuracy: 0.8610\n",
            "Epoch 3/30\n",
            "17999/17999 [==============================] - 1s 53us/step - loss: 0.3581 - accuracy: 0.8956 - val_loss: 0.4260 - val_accuracy: 0.8800\n",
            "Epoch 4/30\n",
            "17999/17999 [==============================] - 1s 52us/step - loss: 0.2742 - accuracy: 0.9206 - val_loss: 0.3704 - val_accuracy: 0.9025\n",
            "Epoch 5/30\n",
            "17999/17999 [==============================] - 1s 52us/step - loss: 0.2327 - accuracy: 0.9328 - val_loss: 0.3892 - val_accuracy: 0.9000\n",
            "Epoch 6/30\n",
            "17999/17999 [==============================] - 1s 52us/step - loss: 0.1983 - accuracy: 0.9422 - val_loss: 0.3299 - val_accuracy: 0.9145\n",
            "Epoch 7/30\n",
            "17999/17999 [==============================] - 1s 51us/step - loss: 0.1726 - accuracy: 0.9487 - val_loss: 0.3205 - val_accuracy: 0.9110\n",
            "Epoch 8/30\n",
            "17999/17999 [==============================] - 1s 52us/step - loss: 0.1462 - accuracy: 0.9574 - val_loss: 0.3201 - val_accuracy: 0.9225\n",
            "Epoch 9/30\n",
            "17999/17999 [==============================] - 1s 51us/step - loss: 0.1341 - accuracy: 0.9589 - val_loss: 0.3109 - val_accuracy: 0.9260\n",
            "Epoch 10/30\n",
            "17999/17999 [==============================] - 1s 51us/step - loss: 0.1138 - accuracy: 0.9635 - val_loss: 0.3698 - val_accuracy: 0.9115\n",
            "Epoch 11/30\n",
            "17999/17999 [==============================] - 1s 53us/step - loss: 0.1150 - accuracy: 0.9654 - val_loss: 0.3352 - val_accuracy: 0.9250\n",
            "Epoch 12/30\n",
            "17999/17999 [==============================] - 1s 50us/step - loss: 0.1048 - accuracy: 0.9678 - val_loss: 0.3204 - val_accuracy: 0.9350\n",
            "Epoch 13/30\n",
            "17999/17999 [==============================] - 1s 51us/step - loss: 0.1086 - accuracy: 0.9681 - val_loss: 0.3055 - val_accuracy: 0.9325\n",
            "Epoch 14/30\n",
            "17999/17999 [==============================] - 1s 51us/step - loss: 0.0898 - accuracy: 0.9734 - val_loss: 0.3808 - val_accuracy: 0.9210\n",
            "Epoch 15/30\n",
            "17999/17999 [==============================] - 1s 51us/step - loss: 0.0818 - accuracy: 0.9749 - val_loss: 0.3326 - val_accuracy: 0.9315\n",
            "Epoch 16/30\n",
            "17999/17999 [==============================] - 1s 52us/step - loss: 0.0788 - accuracy: 0.9772 - val_loss: 0.4211 - val_accuracy: 0.9280\n",
            "Epoch 17/30\n",
            "17999/17999 [==============================] - 1s 53us/step - loss: 0.0851 - accuracy: 0.9751 - val_loss: 0.2966 - val_accuracy: 0.9405\n",
            "Epoch 18/30\n",
            "17999/17999 [==============================] - 1s 52us/step - loss: 0.0615 - accuracy: 0.9806 - val_loss: 0.3377 - val_accuracy: 0.9370\n",
            "Epoch 19/30\n",
            "17999/17999 [==============================] - 1s 51us/step - loss: 0.0775 - accuracy: 0.9766 - val_loss: 0.3808 - val_accuracy: 0.9320\n",
            "Epoch 20/30\n",
            "17999/17999 [==============================] - 1s 53us/step - loss: 0.0725 - accuracy: 0.9773 - val_loss: 0.4044 - val_accuracy: 0.9305\n",
            "Epoch 21/30\n",
            "17999/17999 [==============================] - 1s 52us/step - loss: 0.0643 - accuracy: 0.9805 - val_loss: 0.3024 - val_accuracy: 0.9435\n",
            "Epoch 22/30\n",
            "17999/17999 [==============================] - 1s 52us/step - loss: 0.0568 - accuracy: 0.9822 - val_loss: 0.3682 - val_accuracy: 0.9400\n",
            "Epoch 23/30\n",
            "17999/17999 [==============================] - 1s 52us/step - loss: 0.0559 - accuracy: 0.9829 - val_loss: 0.4122 - val_accuracy: 0.9345\n",
            "Epoch 24/30\n",
            "17999/17999 [==============================] - 1s 52us/step - loss: 0.0516 - accuracy: 0.9837 - val_loss: 0.3719 - val_accuracy: 0.9340\n",
            "Epoch 25/30\n",
            "17999/17999 [==============================] - 1s 59us/step - loss: 0.0615 - accuracy: 0.9805 - val_loss: 0.5377 - val_accuracy: 0.9200\n",
            "Epoch 26/30\n",
            "17999/17999 [==============================] - 1s 57us/step - loss: 0.0600 - accuracy: 0.9835 - val_loss: 0.3406 - val_accuracy: 0.9410\n",
            "Epoch 27/30\n",
            "17999/17999 [==============================] - 1s 57us/step - loss: 0.0481 - accuracy: 0.9866 - val_loss: 0.3509 - val_accuracy: 0.9415\n",
            "Epoch 28/30\n",
            "17999/17999 [==============================] - 1s 57us/step - loss: 0.0506 - accuracy: 0.9859 - val_loss: 0.3267 - val_accuracy: 0.9450\n",
            "Epoch 29/30\n",
            "17999/17999 [==============================] - 1s 57us/step - loss: 0.0371 - accuracy: 0.9884 - val_loss: 0.3960 - val_accuracy: 0.9310\n",
            "Epoch 30/30\n",
            "17999/17999 [==============================] - 1s 59us/step - loss: 0.0436 - accuracy: 0.9872 - val_loss: 0.4536 - val_accuracy: 0.9375\n"
          ],
          "name": "stdout"
        }
      ]
    },
    {
      "cell_type": "code",
      "metadata": {
        "id": "7OTUPrso7yS2",
        "colab_type": "code",
        "colab": {
          "base_uri": "https://localhost:8080/",
          "height": 573
        },
        "outputId": "d7220495-95b8-4150-ad69-dc056e2ecb5c"
      },
      "source": [
        "plt.plot(history.history['loss'])\n",
        "plt.plot(history.history['val_loss'])\n",
        "plt.title('Model loss')\n",
        "plt.ylabel('Loss')\n",
        "plt.xlabel('Epoch')\n",
        "plt.legend(['Train', 'Test'], loc='upper left')\n",
        "plt.show()\n",
        "\n",
        "plt.plot(history.history['accuracy'])\n",
        "plt.plot(history.history['val_accuracy'])\n",
        "plt.title('Model acc')\n",
        "plt.ylabel('acc')\n",
        "plt.xlabel('Epoch')\n",
        "plt.legend(['Train', 'Test'], loc='upper left')\n",
        "plt.show()"
      ],
      "execution_count": null,
      "outputs": [
        {
          "output_type": "display_data",
          "data": {
            "image/png": "[encoded data removed]",
            "text/plain": [
              "<Figure size 432x288 with 1 Axes>"
            ]
          },
          "metadata": {
            "tags": [],
            "needs_background": "light"
          }
        },
        {
          "output_type": "display_data",
          "data": {
            "image/png": "[encoded data removed]",
            "text/plain": [
              "<Figure size 432x288 with 1 Axes>"
            ]
          },
          "metadata": {
            "tags": [],
            "needs_background": "light"
          }
        }
      ]
    },
    {
      "cell_type": "code",
      "metadata": {
        "id": "E5D2zbP87yQn",
        "colab_type": "code",
        "colab": {}
      },
      "source": [
        "model.save_weights('mnist_1_94.h5')"
      ],
      "execution_count": null,
      "outputs": []
    },
    {
      "cell_type": "code",
      "metadata": {
        "id": "5fOVHIH57yJl",
        "colab_type": "code",
        "colab": {}
      },
      "source": [
        "all_img = []\n",
        "for i in range(1,10):\n",
        "  img1 = cv2.imread(str(i)+'.jpg',0)\n",
        "  (thresh, im_bw) = cv2.threshold(img1, 128, 255, cv2.THRESH_BINARY | cv2.THRESH_OTSU)\n",
        "  inv = cv2.bitwise_not(im_bw)\n",
        "  all_img.append(cv2.resize(inv, (28,28)))"
      ],
      "execution_count": null,
      "outputs": []
    },
    {
      "cell_type": "code",
      "metadata": {
        "id": "OzmotbhU8Vpq",
        "colab_type": "code",
        "colab": {}
      },
      "source": [
        "all_img = np.array(all_img)"
      ],
      "execution_count": null,
      "outputs": []
    },
    {
      "cell_type": "code",
      "metadata": {
        "id": "yy4em6A78VnP",
        "colab_type": "code",
        "colab": {
          "base_uri": "https://localhost:8080/",
          "height": 68
        },
        "outputId": "5663e3c8-2a84-4c9b-8488-8ad972859917"
      },
      "source": [
        "temp = all_img[0].flatten()\n",
        "temp = np.reshape(temp,(1,784))\n",
        "model.predict(temp) "
      ],
      "execution_count": null,
      "outputs": [
        {
          "output_type": "execute_result",
          "data": {
            "text/plain": [
              "array([[3.5413306e-03, 8.4271473e-01, 1.1079769e-02, 1.4661535e-02,\n",
              "        8.4351115e-02, 2.5915056e-02, 1.4358634e-02, 2.6313483e-03,\n",
              "        7.0064102e-04, 4.5895616e-05]], dtype=float32)"
            ]
          },
          "metadata": {
            "tags": []
          },
          "execution_count": 18
        }
      ]
    },
    {
      "cell_type": "code",
      "metadata": {
        "id": "E1MDI7Fu8Vj3",
        "colab_type": "code",
        "colab": {
          "base_uri": "https://localhost:8080/",
          "height": 92
        },
        "outputId": "b5379ab7-8248-4a05-b68a-81c2455143f1"
      },
      "source": [
        "for i in range(1,10):\n",
        "  plt.subplot(1,10,i)\n",
        "  plt.imshow(all_img[i-1])\n",
        "  plt.title(np.argmax(model.predict(np.reshape(all_img[i-1],(1,784)))))"
      ],
      "execution_count": null,
      "outputs": [
        {
          "output_type": "display_data",
          "data": {
            "image/png": "[encoded data removed]",
            "text/plain": [
              "<Figure size 432x288 with 9 Axes>"
            ]
          },
          "metadata": {
            "tags": [],
            "needs_background": "light"
          }
        }
      ]
    }
  ]
}